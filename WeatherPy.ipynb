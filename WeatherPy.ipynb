{
 "cells": [
  {
   "cell_type": "markdown",
   "metadata": {},
   "source": [
    "# WeatherPy\n",
    "----\n",
    "\n",
    "#### Note\n",
    "* Instructions have been included for each segment. You do not have to follow them exactly, but they are included to help you think through the steps."
   ]
  },
  {
   "cell_type": "code",
   "execution_count": 1,
   "metadata": {},
   "outputs": [
    {
     "name": "stdout",
     "output_type": "stream",
     "text": [
      "Requirement already satisfied: citipy in c:\\users\\cetin\\appdata\\local\\programs\\python\\python310\\lib\\site-packages (0.0.5)\n",
      "Requirement already satisfied: kdtree>=0.12 in c:\\users\\cetin\\appdata\\local\\programs\\python\\python310\\lib\\site-packages (from citipy) (0.16)\n"
     ]
    },
    {
     "name": "stderr",
     "output_type": "stream",
     "text": [
      "WARNING: You are using pip version 21.3.1; however, version 22.0.4 is available.\n",
      "You should consider upgrading via the 'C:\\Users\\cetin\\AppData\\Local\\Programs\\Python\\Python310\\python.exe -m pip install --upgrade pip' command.\n"
     ]
    },
    {
     "name": "stdout",
     "output_type": "stream",
     "text": [
      "Requirement already satisfied: spicy in c:\\users\\cetin\\appdata\\local\\programs\\python\\python310\\lib\\site-packages (0.16.0)\n",
      "Requirement already satisfied: scipy in c:\\users\\cetin\\appdata\\local\\programs\\python\\python310\\lib\\site-packages (from spicy) (1.8.0)\n",
      "Requirement already satisfied: numpy<1.25.0,>=1.17.3 in c:\\users\\cetin\\appdata\\local\\programs\\python\\python310\\lib\\site-packages (from scipy->spicy) (1.22.3)\n"
     ]
    },
    {
     "name": "stderr",
     "output_type": "stream",
     "text": [
      "WARNING: You are using pip version 21.3.1; however, version 22.0.4 is available.\n",
      "You should consider upgrading via the 'C:\\Users\\cetin\\AppData\\Local\\Programs\\Python\\Python310\\python.exe -m pip install --upgrade pip' command.\n"
     ]
    }
   ],
   "source": [
    "!pip install citipy\n",
    "!pip install spicy"
   ]
  },
  {
   "cell_type": "code",
   "execution_count": 3,
   "metadata": {},
   "outputs": [],
   "source": [
    "# Dependencies and Setup\n",
    "import matplotlib.pyplot as plt\n",
    "import pandas as pd\n",
    "import numpy as np\n",
    "import requests\n",
    "import json\n",
    "import time\n",
    "import scipy.stats as st\n",
    "from scipy.stats import linregress\n",
    "\n",
    "# Import API key\n",
    "from api_keys import weather_api_key\n",
    "\n",
    "# Incorporated citipy to determine city based on latitude and longitude\n",
    "from citipy import citipy\n",
    "\n",
    "# Output File (CSV)\n",
    "output_data_file = \"output_data/cities.csv\"\n",
    "\n",
    "# Range of latitudes and longitudes\n",
    "lat_range = (-90, 90)\n",
    "lng_range = (-180, 180)"
   ]
  },
  {
   "cell_type": "markdown",
   "metadata": {},
   "source": [
    "## Generate Cities List"
   ]
  },
  {
   "cell_type": "code",
   "execution_count": 4,
   "metadata": {},
   "outputs": [
    {
     "data": {
      "text/plain": [
       "613"
      ]
     },
     "execution_count": 4,
     "metadata": {},
     "output_type": "execute_result"
    }
   ],
   "source": [
    "# The list of lat_lngs and cities\n",
    "lat_lngs = []\n",
    "cities = []\n",
    "\n",
    "# The set of random lat and lng combinations\n",
    "lats = np.random.uniform(lat_range[0], lat_range[1], size=1500)\n",
    "lngs = np.random.uniform(lng_range[0], lng_range[1], size=1500)\n",
    "lat_lngs = zip(lats, lngs)\n",
    "\n",
    "# The nearest city for each lat,Lng\n",
    "for lat_lng in lat_lngs:\n",
    "    city = citipy.nearest_city(lat_lng[0], lat_lng[1]).city_name\n",
    "    \n",
    "    if city not in cities:\n",
    "        cities.append(city)\n",
    "        \n",
    "len(cities)"
   ]
  },
  {
   "cell_type": "code",
   "execution_count": 5,
   "metadata": {},
   "outputs": [],
   "source": [
    "city_list = []\n",
    "cloud_list = []\n",
    "country_list = []\n",
    "date_list = []\n",
    "humidity_list = []\n",
    "lat_list = []\n",
    "lng_list = []\n",
    "max_temp_list = []\n",
    "wind_speed_list = []\n",
    "index_counter = 0\n",
    "set_counter = 1"
   ]
  },
  {
   "cell_type": "markdown",
   "metadata": {},
   "source": [
    "### Perform API Calls\n",
    "* Perform a weather check on each city using a series of successive API calls.\n",
    "* Include a print log of each city as it'sbeing processed (with the city number and city name).\n",
    "\n",
    "> **HINT:** The OpenWeatherMap API only allows 60 calls per minute under their free plan. Try using `time.sleep(60)` after each set of 50 cities to avoid API errors due to large calls."
   ]
  },
  {
   "cell_type": "code",
   "execution_count": 6,
   "metadata": {},
   "outputs": [
    {
     "name": "stdout",
     "output_type": "stream",
     "text": [
      "Beginning Data Retrieval \n",
      "------------------------------\n",
      "Processing Record 1 of Set 1 : half moon bay\n",
      "City not found. Skipping...\n",
      "Processing Record 2 of Set 1 : guerrero negro\n",
      "Processing Record 3 of Set 1 : mataura\n",
      "Processing Record 4 of Set 1 : mahebourg\n",
      "Processing Record 5 of Set 1 : yashalta\n",
      "Processing Record 6 of Set 1 : vaini\n",
      "Processing Record 7 of Set 1 : arraial do cabo\n",
      "Processing Record 8 of Set 1 : cape town\n",
      "Processing Record 9 of Set 1 : verkhnyaya toyma\n",
      "Processing Record 10 of Set 1 : mitsamiouli\n",
      "Processing Record 11 of Set 1 : faya\n",
      "Processing Record 12 of Set 1 : jinzhou\n",
      "City not found. Skipping...\n",
      "Processing Record 13 of Set 1 : hokitika\n",
      "Processing Record 14 of Set 1 : cacador\n",
      "Processing Record 15 of Set 1 : grand gaube\n",
      "Processing Record 16 of Set 1 : haines junction\n",
      "Processing Record 17 of Set 1 : tautira\n",
      "Processing Record 18 of Set 1 : new norfolk\n",
      "Processing Record 19 of Set 1 : bredasdorp\n",
      "Processing Record 20 of Set 1 : bluff\n",
      "Processing Record 21 of Set 1 : ushuaia\n",
      "Processing Record 22 of Set 1 : hobart\n",
      "Processing Record 23 of Set 1 : punta arenas\n",
      "Processing Record 24 of Set 1 : castro\n",
      "Processing Record 25 of Set 1 : rikitea\n",
      "Processing Record 26 of Set 1 : andenes\n",
      "Processing Record 27 of Set 1 : mandera\n",
      "Processing Record 28 of Set 1 : saldanha\n",
      "Processing Record 29 of Set 1 : bathsheba\n",
      "Processing Record 30 of Set 1 : synya\n",
      "City not found. Skipping...\n",
      "Processing Record 31 of Set 1 : dikson\n",
      "Processing Record 32 of Set 1 : yarada\n",
      "Processing Record 33 of Set 1 : barrow\n",
      "Processing Record 34 of Set 1 : hermanus\n",
      "Processing Record 35 of Set 1 : kingston\n",
      "Processing Record 36 of Set 1 : salym\n",
      "City not found. Skipping...\n",
      "Processing Record 37 of Set 1 : busselton\n",
      "Processing Record 38 of Set 1 : shellbrook\n",
      "Processing Record 39 of Set 1 : naze\n",
      "Processing Record 40 of Set 1 : sainte-anne-des-monts\n",
      "Processing Record 41 of Set 1 : san cristobal\n",
      "Processing Record 42 of Set 1 : bedesa\n",
      "Processing Record 43 of Set 1 : harper\n",
      "Processing Record 44 of Set 1 : lebu\n",
      "Processing Record 45 of Set 1 : qui nhon\n",
      "Processing Record 46 of Set 1 : pisco\n",
      "Processing Record 47 of Set 1 : port elizabeth\n",
      "Processing Record 48 of Set 1 : sarwar\n",
      "Processing Record 49 of Set 1 : sioux lookout\n",
      "City not found. Skipping...\n",
      "Processing Record 50 of Set 1 : upernavik\n",
      "Processing Record 0 of Set 2 : newport\n",
      "Processing Record 1 of Set 2 : saint george\n",
      "Processing Record 2 of Set 2 : olinda\n",
      "Processing Record 3 of Set 2 : guerande\n",
      "City not found. Skipping...\n",
      "Processing Record 4 of Set 2 : yucca valley\n",
      "Processing Record 5 of Set 2 : panshi\n",
      "Processing Record 6 of Set 2 : atuona\n",
      "Processing Record 7 of Set 2 : pevek\n",
      "Processing Record 8 of Set 2 : bonfim\n",
      "Processing Record 9 of Set 2 : winnemucca\n",
      "Processing Record 10 of Set 2 : esperance\n",
      "Processing Record 11 of Set 2 : yellowknife\n",
      "Processing Record 12 of Set 2 : piacabucu\n",
      "Processing Record 13 of Set 2 : kodiak\n",
      "Processing Record 14 of Set 2 : poum\n",
      "Processing Record 15 of Set 2 : alpena\n",
      "Processing Record 16 of Set 2 : kapaa\n",
      "Processing Record 17 of Set 2 : flinders\n",
      "Processing Record 18 of Set 2 : bukachacha\n",
      "Processing Record 19 of Set 2 : saskylakh\n",
      "Processing Record 20 of Set 2 : northam\n",
      "Processing Record 21 of Set 2 : talnakh\n",
      "Processing Record 22 of Set 2 : necochea\n",
      "Processing Record 23 of Set 2 : inhambane\n",
      "Processing Record 24 of Set 2 : komsomolskiy\n",
      "City not found. Skipping...\n",
      "City not found. Skipping...\n",
      "Processing Record 25 of Set 2 : qaqortoq\n",
      "Processing Record 26 of Set 2 : beira\n",
      "Processing Record 27 of Set 2 : arlit\n",
      "Processing Record 28 of Set 2 : torbay\n",
      "Processing Record 29 of Set 2 : aloleng\n",
      "Processing Record 30 of Set 2 : portland\n",
      "Processing Record 31 of Set 2 : smithers\n",
      "City not found. Skipping...\n",
      "Processing Record 32 of Set 2 : fiumicino\n",
      "Processing Record 33 of Set 2 : prince george\n",
      "Processing Record 34 of Set 2 : manakara\n",
      "Processing Record 35 of Set 2 : yatou\n",
      "Processing Record 36 of Set 2 : saint-augustin\n",
      "Processing Record 37 of Set 2 : ponta do sol\n",
      "Processing Record 38 of Set 2 : constitucion\n",
      "Processing Record 39 of Set 2 : mar del plata\n",
      "Processing Record 40 of Set 2 : kushmurun\n",
      "Processing Record 41 of Set 2 : ugoofaaru\n",
      "Processing Record 42 of Set 2 : la reforma\n",
      "Processing Record 43 of Set 2 : ribeira grande\n",
      "Processing Record 44 of Set 2 : buenos aires\n",
      "Processing Record 45 of Set 2 : tuktoyaktuk\n",
      "Processing Record 46 of Set 2 : jamestown\n",
      "Processing Record 47 of Set 2 : port lincoln\n",
      "Processing Record 48 of Set 2 : hithadhoo\n",
      "Processing Record 49 of Set 2 : hasaki\n",
      "Processing Record 50 of Set 2 : kirakira\n",
      "Processing Record 0 of Set 3 : iwanai\n",
      "Processing Record 1 of Set 3 : cervo\n",
      "Processing Record 2 of Set 3 : petropavlovsk-kamchatskiy\n",
      "Processing Record 3 of Set 3 : mattru\n",
      "Processing Record 4 of Set 3 : tomatlan\n",
      "Processing Record 5 of Set 3 : thompson\n",
      "Processing Record 6 of Set 3 : bambous virieux\n",
      "City not found. Skipping...\n",
      "Processing Record 7 of Set 3 : butaritari\n",
      "Processing Record 8 of Set 3 : teya\n",
      "Processing Record 9 of Set 3 : victoria\n",
      "Processing Record 10 of Set 3 : cairns\n",
      "Processing Record 11 of Set 3 : araouane\n",
      "Processing Record 12 of Set 3 : lavrentiya\n",
      "Processing Record 13 of Set 3 : belmonte\n",
      "Processing Record 14 of Set 3 : codrington\n",
      "Processing Record 15 of Set 3 : kahului\n",
      "Processing Record 16 of Set 3 : alyangula\n",
      "Processing Record 17 of Set 3 : port augusta\n",
      "Processing Record 18 of Set 3 : san carlos de bariloche\n",
      "Processing Record 19 of Set 3 : meerane\n",
      "Processing Record 20 of Set 3 : bodden town\n",
      "Processing Record 21 of Set 3 : bambanglipuro\n",
      "Processing Record 22 of Set 3 : torrington\n",
      "Processing Record 23 of Set 3 : tessalit\n",
      "Processing Record 24 of Set 3 : walvis bay\n",
      "Processing Record 25 of Set 3 : port alfred\n",
      "Processing Record 26 of Set 3 : albany\n",
      "Processing Record 27 of Set 3 : giyani\n",
      "Processing Record 28 of Set 3 : hermiston\n",
      "Processing Record 29 of Set 3 : asau\n",
      "Processing Record 30 of Set 3 : padang\n",
      "Processing Record 31 of Set 3 : kakamega\n",
      "Processing Record 32 of Set 3 : puerto ayora\n",
      "Processing Record 33 of Set 3 : gravdal\n",
      "Processing Record 34 of Set 3 : sao joao da barra\n",
      "Processing Record 35 of Set 3 : saint-philippe\n",
      "Processing Record 36 of Set 3 : kondopoga\n",
      "Processing Record 37 of Set 3 : hamilton\n",
      "Processing Record 38 of Set 3 : pampa\n",
      "Processing Record 39 of Set 3 : rio grande\n",
      "Processing Record 40 of Set 3 : tucurui\n",
      "Processing Record 41 of Set 3 : lasa\n",
      "Processing Record 42 of Set 3 : samarai\n",
      "Processing Record 43 of Set 3 : fortuna\n",
      "Processing Record 44 of Set 3 : nouadhibou\n",
      "City not found. Skipping...\n",
      "City not found. Skipping...\n",
      "Processing Record 45 of Set 3 : hilo\n",
      "City not found. Skipping...\n",
      "Processing Record 46 of Set 3 : carnarvon\n",
      "City not found. Skipping...\n",
      "City not found. Skipping...\n",
      "Processing Record 47 of Set 3 : srandakan\n",
      "City not found. Skipping...\n",
      "Processing Record 48 of Set 3 : kefamenanu\n",
      "Processing Record 49 of Set 3 : porto novo\n",
      "Processing Record 50 of Set 3 : hailin\n",
      "City not found. Skipping...\n",
      "Processing Record 0 of Set 4 : guadalajara\n",
      "Processing Record 1 of Set 4 : haldibari\n",
      "Processing Record 2 of Set 4 : ubrique\n",
      "Processing Record 3 of Set 4 : nikolskoye\n",
      "Processing Record 4 of Set 4 : ancud\n",
      "Processing Record 5 of Set 4 : avarua\n",
      "Processing Record 6 of Set 4 : leningradskiy\n",
      "Processing Record 7 of Set 4 : chuy\n",
      "Processing Record 8 of Set 4 : tommot\n",
      "Processing Record 9 of Set 4 : boda\n",
      "Processing Record 10 of Set 4 : coari\n",
      "Processing Record 11 of Set 4 : nalut\n",
      "Processing Record 12 of Set 4 : kaitangata\n",
      "Processing Record 13 of Set 4 : trebinje\n",
      "City not found. Skipping...\n",
      "Processing Record 14 of Set 4 : ust-kulom\n",
      "Processing Record 15 of Set 4 : balakhta\n",
      "Processing Record 16 of Set 4 : chara\n",
      "Processing Record 17 of Set 4 : ilanskiy\n",
      "Processing Record 18 of Set 4 : oistins\n",
      "Processing Record 19 of Set 4 : kruisfontein\n",
      "Processing Record 20 of Set 4 : iberia\n",
      "Processing Record 21 of Set 4 : montbeliard\n",
      "Processing Record 22 of Set 4 : dawei\n",
      "Processing Record 23 of Set 4 : ngunguru\n",
      "Processing Record 24 of Set 4 : trani\n",
      "Processing Record 25 of Set 4 : gornopravdinsk\n",
      "Processing Record 26 of Set 4 : rincon\n",
      "Processing Record 27 of Set 4 : khatanga\n",
      "Processing Record 28 of Set 4 : kusa\n",
      "Processing Record 29 of Set 4 : taoudenni\n",
      "Processing Record 30 of Set 4 : rusape\n",
      "Processing Record 31 of Set 4 : paso de carrasco\n",
      "Processing Record 32 of Set 4 : pauini\n"
     ]
    },
    {
     "name": "stdout",
     "output_type": "stream",
     "text": [
      "Processing Record 33 of Set 4 : pangnirtung\n",
      "Processing Record 34 of Set 4 : najran\n",
      "City not found. Skipping...\n",
      "Processing Record 35 of Set 4 : florianopolis\n",
      "Processing Record 36 of Set 4 : paamiut\n",
      "Processing Record 37 of Set 4 : labuhan\n",
      "Processing Record 38 of Set 4 : baykit\n",
      "Processing Record 39 of Set 4 : tiksi\n",
      "City not found. Skipping...\n",
      "Processing Record 40 of Set 4 : altamira\n",
      "Processing Record 41 of Set 4 : mehamn\n",
      "Processing Record 42 of Set 4 : ukiah\n",
      "Processing Record 43 of Set 4 : grindavik\n",
      "Processing Record 44 of Set 4 : bertoua\n",
      "Processing Record 45 of Set 4 : narsaq\n",
      "Processing Record 46 of Set 4 : gisborne\n",
      "Processing Record 47 of Set 4 : lorengau\n",
      "Processing Record 48 of Set 4 : catuday\n",
      "Processing Record 49 of Set 4 : vardo\n",
      "Processing Record 50 of Set 4 : coihaique\n",
      "Processing Record 0 of Set 5 : riachao das neves\n",
      "Processing Record 1 of Set 5 : airai\n",
      "City not found. Skipping...\n",
      "Processing Record 2 of Set 5 : bubaque\n",
      "Processing Record 3 of Set 5 : sorong\n",
      "Processing Record 4 of Set 5 : turukhansk\n",
      "Processing Record 5 of Set 5 : bengkulu\n",
      "Processing Record 6 of Set 5 : vila velha\n",
      "Processing Record 7 of Set 5 : nanortalik\n",
      "Processing Record 8 of Set 5 : luderitz\n",
      "Processing Record 9 of Set 5 : banda aceh\n",
      "Processing Record 10 of Set 5 : barrhead\n",
      "Processing Record 11 of Set 5 : kavieng\n",
      "Processing Record 12 of Set 5 : luba\n",
      "Processing Record 13 of Set 5 : sokolo\n",
      "Processing Record 14 of Set 5 : olafsvik\n",
      "Processing Record 15 of Set 5 : tasiilaq\n",
      "Processing Record 16 of Set 5 : chilca\n",
      "City not found. Skipping...\n",
      "Processing Record 17 of Set 5 : aklavik\n",
      "Processing Record 18 of Set 5 : east london\n",
      "Processing Record 19 of Set 5 : terrace\n",
      "Processing Record 20 of Set 5 : vao\n",
      "Processing Record 21 of Set 5 : le port\n",
      "Processing Record 22 of Set 5 : namatanai\n",
      "Processing Record 23 of Set 5 : ixtapa\n",
      "Processing Record 24 of Set 5 : challans\n",
      "Processing Record 25 of Set 5 : polyarnyy\n",
      "Processing Record 26 of Set 5 : geraldton\n",
      "Processing Record 27 of Set 5 : beyneu\n",
      "Processing Record 28 of Set 5 : kajaani\n",
      "Processing Record 29 of Set 5 : pundaguitan\n",
      "Processing Record 30 of Set 5 : okhotsk\n",
      "Processing Record 31 of Set 5 : felanitx\n",
      "Processing Record 32 of Set 5 : puerto escondido\n",
      "Processing Record 33 of Set 5 : okha\n",
      "Processing Record 34 of Set 5 : virginia beach\n",
      "Processing Record 35 of Set 5 : katangli\n",
      "Processing Record 36 of Set 5 : husavik\n",
      "Processing Record 37 of Set 5 : lethem\n",
      "Processing Record 38 of Set 5 : touros\n",
      "Processing Record 39 of Set 5 : belford roxo\n",
      "Processing Record 40 of Set 5 : pringsewu\n",
      "Processing Record 41 of Set 5 : iqaluit\n",
      "Processing Record 42 of Set 5 : livani\n",
      "Processing Record 43 of Set 5 : cherskiy\n",
      "Processing Record 44 of Set 5 : cumbitara\n",
      "Processing Record 45 of Set 5 : soe\n",
      "Processing Record 46 of Set 5 : kalmunai\n",
      "City not found. Skipping...\n",
      "Processing Record 47 of Set 5 : madimba\n",
      "Processing Record 48 of Set 5 : roald\n",
      "Processing Record 49 of Set 5 : chokurdakh\n",
      "City not found. Skipping...\n",
      "Processing Record 50 of Set 5 : natal\n",
      "Processing Record 0 of Set 6 : renqiu\n",
      "Processing Record 1 of Set 6 : severo-kurilsk\n",
      "Processing Record 2 of Set 6 : san jose\n",
      "Processing Record 3 of Set 6 : provideniya\n",
      "Processing Record 4 of Set 6 : maceio\n",
      "Processing Record 5 of Set 6 : pokhara\n",
      "Processing Record 6 of Set 6 : oyama\n",
      "Processing Record 7 of Set 6 : clarence town\n",
      "Processing Record 8 of Set 6 : beihai\n",
      "Processing Record 9 of Set 6 : gloucester\n",
      "Processing Record 10 of Set 6 : ortakoy\n",
      "Processing Record 11 of Set 6 : kjollefjord\n",
      "City not found. Skipping...\n",
      "Processing Record 12 of Set 6 : san andres del rabanedo\n",
      "Processing Record 13 of Set 6 : namibe\n",
      "Processing Record 14 of Set 6 : ilebo\n",
      "Processing Record 15 of Set 6 : sola\n",
      "Processing Record 16 of Set 6 : longyearbyen\n",
      "Processing Record 17 of Set 6 : sibolga\n",
      "Processing Record 18 of Set 6 : los llanos de aridane\n",
      "City not found. Skipping...\n",
      "Processing Record 19 of Set 6 : ani-e\n",
      "Processing Record 20 of Set 6 : poya\n",
      "Processing Record 21 of Set 6 : buala\n",
      "Processing Record 22 of Set 6 : fort nelson\n",
      "Processing Record 23 of Set 6 : itarema\n",
      "Processing Record 24 of Set 6 : awjilah\n",
      "Processing Record 25 of Set 6 : semey\n",
      "City not found. Skipping...\n",
      "Processing Record 26 of Set 6 : port hardy\n",
      "Processing Record 27 of Set 6 : meulaboh\n",
      "Processing Record 28 of Set 6 : anadyr\n",
      "Processing Record 29 of Set 6 : cabrobo\n",
      "Processing Record 30 of Set 6 : mogadishu\n",
      "Processing Record 31 of Set 6 : boyuibe\n",
      "Processing Record 32 of Set 6 : brae\n",
      "Processing Record 33 of Set 6 : ornskoldsvik\n",
      "Processing Record 34 of Set 6 : sao felix do xingu\n",
      "Processing Record 35 of Set 6 : piopio\n",
      "Processing Record 36 of Set 6 : morros\n",
      "Processing Record 37 of Set 6 : taganak\n",
      "Processing Record 38 of Set 6 : tilichiki\n",
      "Processing Record 39 of Set 6 : port macquarie\n",
      "Processing Record 40 of Set 6 : luebo\n",
      "City not found. Skipping...\n",
      "Processing Record 41 of Set 6 : pavlovsk\n",
      "Processing Record 42 of Set 6 : norman wells\n",
      "Processing Record 43 of Set 6 : opatija\n",
      "Processing Record 44 of Set 6 : sadiqabad\n",
      "Processing Record 45 of Set 6 : inirida\n",
      "City not found. Skipping...\n",
      "Processing Record 46 of Set 6 : smirnykh\n",
      "Processing Record 47 of Set 6 : kutum\n",
      "Processing Record 48 of Set 6 : sitka\n",
      "Processing Record 49 of Set 6 : minab\n",
      "City not found. Skipping...\n",
      "Processing Record 50 of Set 6 : dalby\n",
      "Processing Record 0 of Set 7 : consett\n",
      "Processing Record 1 of Set 7 : georgetown\n",
      "Processing Record 2 of Set 7 : methoni\n",
      "Processing Record 3 of Set 7 : dvinskoy\n",
      "Processing Record 4 of Set 7 : cayenne\n",
      "Processing Record 5 of Set 7 : polis\n",
      "Processing Record 6 of Set 7 : dingle\n",
      "Processing Record 7 of Set 7 : whitecourt\n",
      "Processing Record 8 of Set 7 : moussoro\n",
      "Processing Record 9 of Set 7 : cotonou\n",
      "Processing Record 10 of Set 7 : nola\n",
      "Processing Record 11 of Set 7 : kyabe\n",
      "City not found. Skipping...\n",
      "Processing Record 12 of Set 7 : north bend\n",
      "Processing Record 13 of Set 7 : gejiu\n",
      "Processing Record 14 of Set 7 : saint-denis\n",
      "Processing Record 15 of Set 7 : mantua\n",
      "Processing Record 16 of Set 7 : iskateley\n",
      "Processing Record 17 of Set 7 : burnie\n",
      "Processing Record 18 of Set 7 : udarnyy\n",
      "Processing Record 19 of Set 7 : yarkovo\n",
      "Processing Record 20 of Set 7 : waupun\n",
      "Processing Record 21 of Set 7 : birao\n",
      "Processing Record 22 of Set 7 : seymchan\n",
      "Processing Record 23 of Set 7 : alta floresta\n",
      "Processing Record 24 of Set 7 : uirauna\n",
      "Processing Record 25 of Set 7 : kungurtug\n",
      "Processing Record 26 of Set 7 : burladingen\n",
      "Processing Record 27 of Set 7 : boshan\n",
      "Processing Record 28 of Set 7 : san patricio\n",
      "Processing Record 29 of Set 7 : damaturu\n",
      "Processing Record 30 of Set 7 : la romana\n",
      "Processing Record 31 of Set 7 : bethel\n",
      "Processing Record 32 of Set 7 : puerto madryn\n",
      "Processing Record 33 of Set 7 : egvekinot\n",
      "City not found. Skipping...\n",
      "Processing Record 34 of Set 7 : severo-yeniseyskiy\n",
      "Processing Record 35 of Set 7 : pleshanovo\n",
      "Processing Record 36 of Set 7 : ahipara\n",
      "Processing Record 37 of Set 7 : eravur\n",
      "Processing Record 38 of Set 7 : changping\n",
      "Processing Record 39 of Set 7 : ingham\n",
      "Processing Record 40 of Set 7 : ulladulla\n",
      "Processing Record 41 of Set 7 : hofn\n",
      "Processing Record 42 of Set 7 : karatsu\n",
      "Processing Record 43 of Set 7 : kiama\n",
      "City not found. Skipping...\n",
      "Processing Record 44 of Set 7 : yibin\n",
      "Processing Record 45 of Set 7 : isangel\n",
      "Processing Record 46 of Set 7 : vigevano\n",
      "Processing Record 47 of Set 7 : qaanaaq\n",
      "Processing Record 48 of Set 7 : sobolevo\n",
      "Processing Record 49 of Set 7 : alice springs\n",
      "City not found. Skipping...\n",
      "Processing Record 50 of Set 7 : ilmajoki\n",
      "Processing Record 0 of Set 8 : khandbari\n",
      "Processing Record 1 of Set 8 : topolobampo\n",
      "Processing Record 2 of Set 8 : susanville\n",
      "Processing Record 3 of Set 8 : goderich\n",
      "Processing Record 4 of Set 8 : kuryk\n",
      "Processing Record 5 of Set 8 : azare\n",
      "Processing Record 6 of Set 8 : guiratinga\n",
      "Processing Record 7 of Set 8 : gidam\n",
      "Processing Record 8 of Set 8 : caravelas\n",
      "Processing Record 9 of Set 8 : kupang\n",
      "Processing Record 10 of Set 8 : deniliquin\n",
      "Processing Record 11 of Set 8 : douglas\n",
      "Processing Record 12 of Set 8 : hun\n",
      "Processing Record 13 of Set 8 : kensington\n",
      "Processing Record 14 of Set 8 : elban\n",
      "Processing Record 15 of Set 8 : waitati\n",
      "Processing Record 16 of Set 8 : mayna\n",
      "Processing Record 17 of Set 8 : gat\n",
      "Processing Record 18 of Set 8 : mishkino\n",
      "Processing Record 19 of Set 8 : dukhovshchina\n"
     ]
    },
    {
     "name": "stdout",
     "output_type": "stream",
     "text": [
      "Processing Record 20 of Set 8 : bilibino\n",
      "Processing Record 21 of Set 8 : beinamar\n",
      "Processing Record 22 of Set 8 : martapura\n",
      "Processing Record 23 of Set 8 : waipawa\n",
      "Processing Record 24 of Set 8 : bilma\n",
      "Processing Record 25 of Set 8 : mbigou\n",
      "Processing Record 26 of Set 8 : sao filipe\n",
      "Processing Record 27 of Set 8 : cochrane\n",
      "Processing Record 28 of Set 8 : odweyne\n",
      "City not found. Skipping...\n",
      "City not found. Skipping...\n",
      "Processing Record 29 of Set 8 : te anau\n",
      "Processing Record 30 of Set 8 : boyolangu\n",
      "Processing Record 31 of Set 8 : sokol\n",
      "Processing Record 32 of Set 8 : dunedin\n",
      "Processing Record 33 of Set 8 : pasuruan\n",
      "Processing Record 34 of Set 8 : palmer\n",
      "Processing Record 35 of Set 8 : souillac\n",
      "City not found. Skipping...\n",
      "Processing Record 36 of Set 8 : jumla\n",
      "Processing Record 37 of Set 8 : kijang\n",
      "Processing Record 38 of Set 8 : faanui\n",
      "Processing Record 39 of Set 8 : comodoro rivadavia\n",
      "Processing Record 40 of Set 8 : douentza\n",
      "Processing Record 41 of Set 8 : clyde river\n",
      "City not found. Skipping...\n",
      "City not found. Skipping...\n",
      "Processing Record 42 of Set 8 : west bay\n",
      "Processing Record 43 of Set 8 : vista hermosa\n",
      "Processing Record 44 of Set 8 : charters towers\n",
      "Processing Record 45 of Set 8 : hami\n",
      "Processing Record 46 of Set 8 : turiacu\n",
      "Processing Record 47 of Set 8 : turayf\n",
      "Processing Record 48 of Set 8 : vila franca do campo\n",
      "Processing Record 49 of Set 8 : ha tinh\n",
      "Processing Record 50 of Set 8 : santa isabel do rio negro\n",
      "Processing Record 0 of Set 9 : caucaia\n",
      "Processing Record 1 of Set 9 : pinega\n",
      "Processing Record 2 of Set 9 : college\n",
      "Processing Record 3 of Set 9 : byron bay\n",
      "Processing Record 4 of Set 9 : fagersta\n",
      "Processing Record 5 of Set 9 : nemuro\n",
      "Processing Record 6 of Set 9 : salalah\n",
      "City not found. Skipping...\n",
      "Processing Record 7 of Set 9 : tal\n",
      "Processing Record 8 of Set 9 : ivaipora\n",
      "Processing Record 9 of Set 9 : sorland\n",
      "Processing Record 10 of Set 9 : saint-paul\n",
      "Processing Record 11 of Set 9 : garchitorena\n",
      "Processing Record 12 of Set 9 : flin flon\n",
      "Processing Record 13 of Set 9 : marrakesh\n",
      "Processing Record 14 of Set 9 : mandalgovi\n",
      "Processing Record 15 of Set 9 : cidreira\n",
      "Processing Record 16 of Set 9 : aykhal\n",
      "City not found. Skipping...\n",
      "Processing Record 17 of Set 9 : asfi\n",
      "Processing Record 18 of Set 9 : khokhlovo\n",
      "Processing Record 19 of Set 9 : teguise\n",
      "Processing Record 20 of Set 9 : nelson bay\n",
      "Processing Record 21 of Set 9 : kindu\n",
      "Processing Record 22 of Set 9 : dzilam gonzalez\n",
      "Processing Record 23 of Set 9 : wilmington\n",
      "Processing Record 24 of Set 9 : twin falls\n",
      "Processing Record 25 of Set 9 : hakkari\n",
      "Processing Record 26 of Set 9 : jizan\n",
      "Processing Record 27 of Set 9 : shimoda\n",
      "Processing Record 28 of Set 9 : seoul\n",
      "Processing Record 29 of Set 9 : ust-koksa\n",
      "Processing Record 30 of Set 9 : nouakchott\n",
      "Processing Record 31 of Set 9 : xinan\n",
      "Processing Record 32 of Set 9 : nome\n",
      "Processing Record 33 of Set 9 : sangamner\n",
      "Processing Record 34 of Set 9 : zyryanovsk\n",
      "Processing Record 35 of Set 9 : charagua\n",
      "Processing Record 36 of Set 9 : krasnyy chikoy\n",
      "City not found. Skipping...\n",
      "Processing Record 37 of Set 9 : monrovia\n",
      "Processing Record 38 of Set 9 : sur\n",
      "Processing Record 39 of Set 9 : remanso\n",
      "Processing Record 40 of Set 9 : ponta delgada\n",
      "Processing Record 41 of Set 9 : linhares\n",
      "Processing Record 42 of Set 9 : laguna\n",
      "Processing Record 43 of Set 9 : saint anthony\n",
      "Processing Record 44 of Set 9 : pangody\n",
      "Processing Record 45 of Set 9 : zhezkazgan\n",
      "Processing Record 46 of Set 9 : ishigaki\n",
      "Processing Record 47 of Set 9 : lazurne\n",
      "Processing Record 48 of Set 9 : cabo san lucas\n",
      "Processing Record 49 of Set 9 : palana\n",
      "Processing Record 50 of Set 9 : urucara\n",
      "Processing Record 0 of Set 10 : tshikapa\n",
      "City not found. Skipping...\n",
      "Processing Record 1 of Set 10 : tiznit\n",
      "Processing Record 2 of Set 10 : herat\n",
      "City not found. Skipping...\n",
      "City not found. Skipping...\n",
      "City not found. Skipping...\n",
      "Processing Record 3 of Set 10 : dubrovnik\n",
      "Processing Record 4 of Set 10 : sumter\n",
      "Processing Record 5 of Set 10 : acarau\n",
      "Processing Record 6 of Set 10 : orbetello\n",
      "Processing Record 7 of Set 10 : contamana\n",
      "Processing Record 8 of Set 10 : keuruu\n",
      "Processing Record 9 of Set 10 : corabia\n",
      "City not found. Skipping...\n",
      "Processing Record 10 of Set 10 : hobyo\n",
      "Processing Record 11 of Set 10 : urgut\n",
      "Processing Record 12 of Set 10 : ihosy\n",
      "City not found. Skipping...\n",
      "Processing Record 13 of Set 10 : tame\n",
      "Processing Record 14 of Set 10 : mount gambier\n",
      "Processing Record 15 of Set 10 : filadelfia\n",
      "Processing Record 16 of Set 10 : radcliff\n",
      "Processing Record 17 of Set 10 : la palma\n",
      "Processing Record 18 of Set 10 : teguldet\n",
      "City not found. Skipping...\n",
      "Processing Record 19 of Set 10 : bereda\n",
      "Processing Record 20 of Set 10 : vung tau\n",
      "Processing Record 21 of Set 10 : syracuse\n",
      "Processing Record 22 of Set 10 : krapivinskiy\n",
      "Processing Record 23 of Set 10 : lisala\n",
      "Processing Record 24 of Set 10 : wagar\n",
      "Processing Record 25 of Set 10 : carnduff\n",
      "Processing Record 26 of Set 10 : kosonsoy\n",
      "Processing Record 27 of Set 10 : sisimiut\n",
      "Processing Record 28 of Set 10 : bhindar\n",
      "City not found. Skipping...\n",
      "City not found. Skipping...\n",
      "Processing Record 29 of Set 10 : mirpur sakro\n",
      "Processing Record 30 of Set 10 : saint-joseph\n",
      "Processing Record 31 of Set 10 : pacific grove\n",
      "Processing Record 32 of Set 10 : polson\n",
      "Processing Record 33 of Set 10 : kushima\n",
      "Processing Record 34 of Set 10 : arman\n",
      "Processing Record 35 of Set 10 : yurty\n",
      "Processing Record 36 of Set 10 : praia da vitoria\n",
      "Processing Record 37 of Set 10 : guymon\n",
      "City not found. Skipping...\n",
      "Processing Record 38 of Set 10 : koslan\n",
      "Processing Record 39 of Set 10 : maniitsoq\n",
      "Processing Record 40 of Set 10 : bundaberg\n",
      "City not found. Skipping...\n",
      "Processing Record 41 of Set 10 : alberton\n",
      "Processing Record 42 of Set 10 : leh\n",
      "Processing Record 43 of Set 10 : krasnogorodsk\n",
      "Processing Record 44 of Set 10 : bagdarin\n",
      "Processing Record 45 of Set 10 : general roca\n",
      "Processing Record 46 of Set 10 : westport\n",
      "Processing Record 47 of Set 10 : bud\n",
      "Processing Record 48 of Set 10 : outjo\n",
      "Processing Record 49 of Set 10 : lompoc\n",
      "Processing Record 50 of Set 10 : pytalovo\n",
      "Processing Record 0 of Set 11 : tiarei\n",
      "Processing Record 1 of Set 11 : oktyabrskoye\n",
      "Processing Record 2 of Set 11 : sergiyev posad\n",
      "Processing Record 3 of Set 11 : pedernales\n",
      "City not found. Skipping...\n",
      "Processing Record 4 of Set 11 : lewiston\n",
      "Processing Record 5 of Set 11 : liliani\n",
      "Processing Record 6 of Set 11 : itacare\n",
      "Processing Record 7 of Set 11 : katsuura\n",
      "Processing Record 8 of Set 11 : negombo\n",
      "Processing Record 9 of Set 11 : sambava\n",
      "City not found. Skipping...\n",
      "Processing Record 10 of Set 11 : adjumani\n",
      "Processing Record 11 of Set 11 : basoko\n",
      "Processing Record 12 of Set 11 : coahuayana\n",
      "Processing Record 13 of Set 11 : danville\n",
      "Processing Record 14 of Set 11 : kaeo\n",
      "Processing Record 15 of Set 11 : vestmannaeyjar\n",
      "Processing Record 16 of Set 11 : troitskoye\n",
      "Processing Record 17 of Set 11 : tuatapere\n",
      "Processing Record 18 of Set 11 : pitelino\n",
      "Processing Record 19 of Set 11 : milak\n",
      "Processing Record 20 of Set 11 : presidencia roque saenz pena\n",
      "Processing Record 21 of Set 11 : ilulissat\n",
      "Processing Record 22 of Set 11 : pingliang\n",
      "Processing Record 23 of Set 11 : white rock\n",
      "Processing Record 24 of Set 11 : kafanchan\n",
      "Processing Record 25 of Set 11 : atid\n",
      "Processing Record 26 of Set 11 : bitung\n",
      "Processing Record 27 of Set 11 : catamarca\n",
      "Processing Record 28 of Set 11 : wajima\n",
      "Processing Record 29 of Set 11 : rawson\n",
      "Processing Record 30 of Set 11 : acapulco\n",
      "Processing Record 31 of Set 11 : san rafael\n",
      "Processing Record 32 of Set 11 : kalamazoo\n",
      "Processing Record 33 of Set 11 : hay river\n",
      "Processing Record 34 of Set 11 : glenwood springs\n",
      "Processing Record 35 of Set 11 : kysyl-syr\n",
      "Processing Record 36 of Set 11 : lerik\n",
      "Processing Record 37 of Set 11 : de aar\n",
      "Processing Record 38 of Set 11 : alofi\n",
      "Processing Record 39 of Set 11 : nedjo\n",
      "Processing Record 40 of Set 11 : sao pedro\n",
      "City not found. Skipping...\n",
      "Processing Record 41 of Set 11 : kavaratti\n",
      "Processing Record 42 of Set 11 : copiapo\n",
      "Processing Record 43 of Set 11 : koumac\n",
      "Processing Record 44 of Set 11 : berezovyy\n",
      "Processing Record 45 of Set 11 : berlevag\n",
      "Processing Record 46 of Set 11 : teeli\n",
      "Processing Record 47 of Set 11 : mildura\n",
      "------------------------------\n",
      "Data Retrieval Complete\n",
      "------------------------------\n"
     ]
    }
   ],
   "source": [
    "print(\"Beginning Data Retrieval \")\n",
    "print(\"------------------------------\")\n",
    "\n",
    "base_url = \"http://api.openweathermap.org/data/2.5/weather?\"\n",
    "units = \"imperial\"\n",
    "query_url = f\"{base_url}appid={weather_api_key}&units={units}&q=\"\n",
    "\n",
    "for index, city in enumerate(cities, start = 1):\n",
    "    try:\n",
    "        response = requests.get(query_url + city).json()\n",
    "        city_list.append(response[\"name\"])\n",
    "        cloud_list.append(response[\"clouds\"][\"all\"])\n",
    "        country_list.append(response[\"sys\"][\"country\"])\n",
    "        date_list.append(response[\"dt\"])\n",
    "        humidity_list.append(response[\"main\"][\"humidity\"])\n",
    "        lat_list.append(response[\"coord\"][\"lat\"])\n",
    "        lng_list.append(response[\"coord\"][\"lon\"])\n",
    "        max_temp_list.append(response[\"main\"][\"temp_max\"])\n",
    "        wind_speed_list.append(response[\"wind\"][\"speed\"])\n",
    "        if index_counter > 49:\n",
    "            index_counter = 0\n",
    "            set_counter = set_counter + 1\n",
    "        else:\n",
    "            index_counter = index_counter + 1\n",
    "        print(f\"Processing Record {index_counter} of Set {set_counter} : {city}\")\n",
    "        \n",
    "    except(KeyError, IndexError):\n",
    "        print(\"City not found. Skipping...\")\n",
    "\n",
    "print(\"------------------------------\")\n",
    "print(\"Data Retrieval Complete\")\n",
    "print(\"------------------------------\")"
   ]
  },
  {
   "cell_type": "markdown",
   "metadata": {},
   "source": [
    "### Convert Raw Data to DataFrame\n",
    "* Export the city data into a .csv.\n",
    "* Display the DataFrame"
   ]
  },
  {
   "cell_type": "code",
   "execution_count": 19,
   "metadata": {},
   "outputs": [
    {
     "data": {
      "text/html": [
       "<div>\n",
       "<style scoped>\n",
       "    .dataframe tbody tr th:only-of-type {\n",
       "        vertical-align: middle;\n",
       "    }\n",
       "\n",
       "    .dataframe tbody tr th {\n",
       "        vertical-align: top;\n",
       "    }\n",
       "\n",
       "    .dataframe thead th {\n",
       "        text-align: right;\n",
       "    }\n",
       "</style>\n",
       "<table border=\"1\" class=\"dataframe\">\n",
       "  <thead>\n",
       "    <tr style=\"text-align: right;\">\n",
       "      <th></th>\n",
       "      <th>City</th>\n",
       "      <th>Lat</th>\n",
       "      <th>Lng</th>\n",
       "      <th>Max Temp</th>\n",
       "      <th>Humidity</th>\n",
       "      <th>Cloudiness</th>\n",
       "      <th>Wind Speed</th>\n",
       "      <th>Country</th>\n",
       "      <th>Date</th>\n",
       "    </tr>\n",
       "  </thead>\n",
       "  <tbody>\n",
       "    <tr>\n",
       "      <th>0</th>\n",
       "      <td>Half Moon Bay</td>\n",
       "      <td>37.4636</td>\n",
       "      <td>-122.4286</td>\n",
       "      <td>65.44</td>\n",
       "      <td>85</td>\n",
       "      <td>100</td>\n",
       "      <td>19.57</td>\n",
       "      <td>US</td>\n",
       "      <td>1651722807</td>\n",
       "    </tr>\n",
       "    <tr>\n",
       "      <th>1</th>\n",
       "      <td>Guerrero Negro</td>\n",
       "      <td>27.9769</td>\n",
       "      <td>-114.0611</td>\n",
       "      <td>59.72</td>\n",
       "      <td>81</td>\n",
       "      <td>0</td>\n",
       "      <td>13.47</td>\n",
       "      <td>MX</td>\n",
       "      <td>1651722810</td>\n",
       "    </tr>\n",
       "    <tr>\n",
       "      <th>2</th>\n",
       "      <td>Mataura</td>\n",
       "      <td>-46.1927</td>\n",
       "      <td>168.8643</td>\n",
       "      <td>66.47</td>\n",
       "      <td>69</td>\n",
       "      <td>47</td>\n",
       "      <td>2.08</td>\n",
       "      <td>NZ</td>\n",
       "      <td>1651722810</td>\n",
       "    </tr>\n",
       "    <tr>\n",
       "      <th>3</th>\n",
       "      <td>Mahébourg</td>\n",
       "      <td>-20.4081</td>\n",
       "      <td>57.7000</td>\n",
       "      <td>78.26</td>\n",
       "      <td>83</td>\n",
       "      <td>40</td>\n",
       "      <td>14.97</td>\n",
       "      <td>MU</td>\n",
       "      <td>1651722811</td>\n",
       "    </tr>\n",
       "    <tr>\n",
       "      <th>4</th>\n",
       "      <td>Yashalta</td>\n",
       "      <td>46.3395</td>\n",
       "      <td>42.2762</td>\n",
       "      <td>55.90</td>\n",
       "      <td>71</td>\n",
       "      <td>100</td>\n",
       "      <td>5.14</td>\n",
       "      <td>RU</td>\n",
       "      <td>1651722811</td>\n",
       "    </tr>\n",
       "    <tr>\n",
       "      <th>...</th>\n",
       "      <td>...</td>\n",
       "      <td>...</td>\n",
       "      <td>...</td>\n",
       "      <td>...</td>\n",
       "      <td>...</td>\n",
       "      <td>...</td>\n",
       "      <td>...</td>\n",
       "      <td>...</td>\n",
       "      <td>...</td>\n",
       "    </tr>\n",
       "    <tr>\n",
       "      <th>552</th>\n",
       "      <td>Koumac</td>\n",
       "      <td>-20.5667</td>\n",
       "      <td>164.2833</td>\n",
       "      <td>79.00</td>\n",
       "      <td>77</td>\n",
       "      <td>58</td>\n",
       "      <td>7.61</td>\n",
       "      <td>NC</td>\n",
       "      <td>1651723022</td>\n",
       "    </tr>\n",
       "    <tr>\n",
       "      <th>553</th>\n",
       "      <td>Berezovyy</td>\n",
       "      <td>51.6667</td>\n",
       "      <td>135.7000</td>\n",
       "      <td>49.91</td>\n",
       "      <td>77</td>\n",
       "      <td>100</td>\n",
       "      <td>2.39</td>\n",
       "      <td>RU</td>\n",
       "      <td>1651723022</td>\n",
       "    </tr>\n",
       "    <tr>\n",
       "      <th>554</th>\n",
       "      <td>Berlevåg</td>\n",
       "      <td>70.8578</td>\n",
       "      <td>29.0864</td>\n",
       "      <td>24.80</td>\n",
       "      <td>69</td>\n",
       "      <td>92</td>\n",
       "      <td>7.78</td>\n",
       "      <td>NO</td>\n",
       "      <td>1651723023</td>\n",
       "    </tr>\n",
       "    <tr>\n",
       "      <th>555</th>\n",
       "      <td>Teeli</td>\n",
       "      <td>51.0333</td>\n",
       "      <td>90.2333</td>\n",
       "      <td>41.32</td>\n",
       "      <td>34</td>\n",
       "      <td>100</td>\n",
       "      <td>3.02</td>\n",
       "      <td>RU</td>\n",
       "      <td>1651723023</td>\n",
       "    </tr>\n",
       "    <tr>\n",
       "      <th>556</th>\n",
       "      <td>Mildura</td>\n",
       "      <td>-34.2000</td>\n",
       "      <td>142.1500</td>\n",
       "      <td>53.56</td>\n",
       "      <td>66</td>\n",
       "      <td>75</td>\n",
       "      <td>8.05</td>\n",
       "      <td>AU</td>\n",
       "      <td>1651723024</td>\n",
       "    </tr>\n",
       "  </tbody>\n",
       "</table>\n",
       "<p>557 rows × 9 columns</p>\n",
       "</div>"
      ],
      "text/plain": [
       "               City      Lat       Lng  Max Temp  Humidity  Cloudiness  \\\n",
       "0     Half Moon Bay  37.4636 -122.4286     65.44        85         100   \n",
       "1    Guerrero Negro  27.9769 -114.0611     59.72        81           0   \n",
       "2           Mataura -46.1927  168.8643     66.47        69          47   \n",
       "3         Mahébourg -20.4081   57.7000     78.26        83          40   \n",
       "4          Yashalta  46.3395   42.2762     55.90        71         100   \n",
       "..              ...      ...       ...       ...       ...         ...   \n",
       "552          Koumac -20.5667  164.2833     79.00        77          58   \n",
       "553       Berezovyy  51.6667  135.7000     49.91        77         100   \n",
       "554        Berlevåg  70.8578   29.0864     24.80        69          92   \n",
       "555           Teeli  51.0333   90.2333     41.32        34         100   \n",
       "556         Mildura -34.2000  142.1500     53.56        66          75   \n",
       "\n",
       "     Wind Speed Country        Date  \n",
       "0         19.57      US  1651722807  \n",
       "1         13.47      MX  1651722810  \n",
       "2          2.08      NZ  1651722810  \n",
       "3         14.97      MU  1651722811  \n",
       "4          5.14      RU  1651722811  \n",
       "..          ...     ...         ...  \n",
       "552        7.61      NC  1651723022  \n",
       "553        2.39      RU  1651723022  \n",
       "554        7.78      NO  1651723023  \n",
       "555        3.02      RU  1651723023  \n",
       "556        8.05      AU  1651723024  \n",
       "\n",
       "[557 rows x 9 columns]"
      ]
     },
     "execution_count": 19,
     "metadata": {},
     "output_type": "execute_result"
    }
   ],
   "source": [
    "#creating a dataframe \n",
    "weather_df = pd.DataFrame({\"City\": city_list,\n",
    "                           \"Lat\": lat_list,    \"Lng\": lng_list,\n",
    "                           \"Max Temp\": max_temp_list,\n",
    "                           \"Humidity\": humidity_list,\n",
    "                           \"Cloudiness\": cloud_list,\n",
    "                           \"Wind Speed\": wind_speed_list,\n",
    "                           \"Country\": country_list,\n",
    "                           \"Date\": date_list})\n",
    "\n",
    "weather_df"
   ]
  },
  {
   "cell_type": "code",
   "execution_count": 20,
   "metadata": {},
   "outputs": [
    {
     "data": {
      "text/html": [
       "<div>\n",
       "<style scoped>\n",
       "    .dataframe tbody tr th:only-of-type {\n",
       "        vertical-align: middle;\n",
       "    }\n",
       "\n",
       "    .dataframe tbody tr th {\n",
       "        vertical-align: top;\n",
       "    }\n",
       "\n",
       "    .dataframe thead th {\n",
       "        text-align: right;\n",
       "    }\n",
       "</style>\n",
       "<table border=\"1\" class=\"dataframe\">\n",
       "  <thead>\n",
       "    <tr style=\"text-align: right;\">\n",
       "      <th></th>\n",
       "      <th>City</th>\n",
       "      <th>Lat</th>\n",
       "      <th>Lng</th>\n",
       "      <th>Max Temp</th>\n",
       "      <th>Humidity</th>\n",
       "      <th>Cloudiness</th>\n",
       "      <th>Wind Speed</th>\n",
       "      <th>Country</th>\n",
       "      <th>Date</th>\n",
       "    </tr>\n",
       "  </thead>\n",
       "  <tbody>\n",
       "    <tr>\n",
       "      <th>0</th>\n",
       "      <td>Half Moon Bay</td>\n",
       "      <td>37.4636</td>\n",
       "      <td>-122.4286</td>\n",
       "      <td>65.44</td>\n",
       "      <td>85</td>\n",
       "      <td>100</td>\n",
       "      <td>19.57</td>\n",
       "      <td>US</td>\n",
       "      <td>1651722807</td>\n",
       "    </tr>\n",
       "    <tr>\n",
       "      <th>1</th>\n",
       "      <td>Guerrero Negro</td>\n",
       "      <td>27.9769</td>\n",
       "      <td>-114.0611</td>\n",
       "      <td>59.72</td>\n",
       "      <td>81</td>\n",
       "      <td>0</td>\n",
       "      <td>13.47</td>\n",
       "      <td>MX</td>\n",
       "      <td>1651722810</td>\n",
       "    </tr>\n",
       "    <tr>\n",
       "      <th>2</th>\n",
       "      <td>Mataura</td>\n",
       "      <td>-46.1927</td>\n",
       "      <td>168.8643</td>\n",
       "      <td>66.47</td>\n",
       "      <td>69</td>\n",
       "      <td>47</td>\n",
       "      <td>2.08</td>\n",
       "      <td>NZ</td>\n",
       "      <td>1651722810</td>\n",
       "    </tr>\n",
       "    <tr>\n",
       "      <th>3</th>\n",
       "      <td>Mahébourg</td>\n",
       "      <td>-20.4081</td>\n",
       "      <td>57.7000</td>\n",
       "      <td>78.26</td>\n",
       "      <td>83</td>\n",
       "      <td>40</td>\n",
       "      <td>14.97</td>\n",
       "      <td>MU</td>\n",
       "      <td>1651722811</td>\n",
       "    </tr>\n",
       "    <tr>\n",
       "      <th>4</th>\n",
       "      <td>Yashalta</td>\n",
       "      <td>46.3395</td>\n",
       "      <td>42.2762</td>\n",
       "      <td>55.90</td>\n",
       "      <td>71</td>\n",
       "      <td>100</td>\n",
       "      <td>5.14</td>\n",
       "      <td>RU</td>\n",
       "      <td>1651722811</td>\n",
       "    </tr>\n",
       "    <tr>\n",
       "      <th>5</th>\n",
       "      <td>Vaini</td>\n",
       "      <td>-21.2000</td>\n",
       "      <td>-175.2000</td>\n",
       "      <td>75.36</td>\n",
       "      <td>94</td>\n",
       "      <td>75</td>\n",
       "      <td>3.44</td>\n",
       "      <td>TO</td>\n",
       "      <td>1651722812</td>\n",
       "    </tr>\n",
       "    <tr>\n",
       "      <th>6</th>\n",
       "      <td>Arraial do Cabo</td>\n",
       "      <td>-22.9661</td>\n",
       "      <td>-42.0278</td>\n",
       "      <td>75.31</td>\n",
       "      <td>88</td>\n",
       "      <td>88</td>\n",
       "      <td>8.01</td>\n",
       "      <td>BR</td>\n",
       "      <td>1651722812</td>\n",
       "    </tr>\n",
       "    <tr>\n",
       "      <th>7</th>\n",
       "      <td>Cape Town</td>\n",
       "      <td>-33.9258</td>\n",
       "      <td>18.4232</td>\n",
       "      <td>57.11</td>\n",
       "      <td>94</td>\n",
       "      <td>100</td>\n",
       "      <td>2.30</td>\n",
       "      <td>ZA</td>\n",
       "      <td>1651722812</td>\n",
       "    </tr>\n",
       "    <tr>\n",
       "      <th>8</th>\n",
       "      <td>Verkhnyaya Toyma</td>\n",
       "      <td>62.2349</td>\n",
       "      <td>44.9985</td>\n",
       "      <td>32.50</td>\n",
       "      <td>61</td>\n",
       "      <td>72</td>\n",
       "      <td>6.44</td>\n",
       "      <td>RU</td>\n",
       "      <td>1651722813</td>\n",
       "    </tr>\n",
       "    <tr>\n",
       "      <th>9</th>\n",
       "      <td>Mitsamiouli</td>\n",
       "      <td>-11.3847</td>\n",
       "      <td>43.2844</td>\n",
       "      <td>75.49</td>\n",
       "      <td>83</td>\n",
       "      <td>20</td>\n",
       "      <td>5.75</td>\n",
       "      <td>KM</td>\n",
       "      <td>1651722813</td>\n",
       "    </tr>\n",
       "    <tr>\n",
       "      <th>10</th>\n",
       "      <td>Faya</td>\n",
       "      <td>18.3851</td>\n",
       "      <td>42.4509</td>\n",
       "      <td>59.52</td>\n",
       "      <td>50</td>\n",
       "      <td>4</td>\n",
       "      <td>3.04</td>\n",
       "      <td>SA</td>\n",
       "      <td>1651722813</td>\n",
       "    </tr>\n",
       "    <tr>\n",
       "      <th>11</th>\n",
       "      <td>Jinzhou</td>\n",
       "      <td>41.1078</td>\n",
       "      <td>121.1417</td>\n",
       "      <td>74.71</td>\n",
       "      <td>36</td>\n",
       "      <td>71</td>\n",
       "      <td>26.71</td>\n",
       "      <td>CN</td>\n",
       "      <td>1651722814</td>\n",
       "    </tr>\n",
       "    <tr>\n",
       "      <th>12</th>\n",
       "      <td>Hokitika</td>\n",
       "      <td>-42.7167</td>\n",
       "      <td>170.9667</td>\n",
       "      <td>61.65</td>\n",
       "      <td>79</td>\n",
       "      <td>63</td>\n",
       "      <td>2.19</td>\n",
       "      <td>NZ</td>\n",
       "      <td>1651722814</td>\n",
       "    </tr>\n",
       "    <tr>\n",
       "      <th>13</th>\n",
       "      <td>Caçador</td>\n",
       "      <td>-26.7753</td>\n",
       "      <td>-51.0150</td>\n",
       "      <td>55.26</td>\n",
       "      <td>90</td>\n",
       "      <td>100</td>\n",
       "      <td>5.50</td>\n",
       "      <td>BR</td>\n",
       "      <td>1651722815</td>\n",
       "    </tr>\n",
       "    <tr>\n",
       "      <th>14</th>\n",
       "      <td>Grand Gaube</td>\n",
       "      <td>-20.0064</td>\n",
       "      <td>57.6608</td>\n",
       "      <td>78.39</td>\n",
       "      <td>76</td>\n",
       "      <td>30</td>\n",
       "      <td>7.00</td>\n",
       "      <td>MU</td>\n",
       "      <td>1651722815</td>\n",
       "    </tr>\n",
       "  </tbody>\n",
       "</table>\n",
       "</div>"
      ],
      "text/plain": [
       "                City      Lat       Lng  Max Temp  Humidity  Cloudiness  \\\n",
       "0      Half Moon Bay  37.4636 -122.4286     65.44        85         100   \n",
       "1     Guerrero Negro  27.9769 -114.0611     59.72        81           0   \n",
       "2            Mataura -46.1927  168.8643     66.47        69          47   \n",
       "3          Mahébourg -20.4081   57.7000     78.26        83          40   \n",
       "4           Yashalta  46.3395   42.2762     55.90        71         100   \n",
       "5              Vaini -21.2000 -175.2000     75.36        94          75   \n",
       "6    Arraial do Cabo -22.9661  -42.0278     75.31        88          88   \n",
       "7          Cape Town -33.9258   18.4232     57.11        94         100   \n",
       "8   Verkhnyaya Toyma  62.2349   44.9985     32.50        61          72   \n",
       "9        Mitsamiouli -11.3847   43.2844     75.49        83          20   \n",
       "10              Faya  18.3851   42.4509     59.52        50           4   \n",
       "11           Jinzhou  41.1078  121.1417     74.71        36          71   \n",
       "12          Hokitika -42.7167  170.9667     61.65        79          63   \n",
       "13           Caçador -26.7753  -51.0150     55.26        90         100   \n",
       "14       Grand Gaube -20.0064   57.6608     78.39        76          30   \n",
       "\n",
       "    Wind Speed Country        Date  \n",
       "0        19.57      US  1651722807  \n",
       "1        13.47      MX  1651722810  \n",
       "2         2.08      NZ  1651722810  \n",
       "3        14.97      MU  1651722811  \n",
       "4         5.14      RU  1651722811  \n",
       "5         3.44      TO  1651722812  \n",
       "6         8.01      BR  1651722812  \n",
       "7         2.30      ZA  1651722812  \n",
       "8         6.44      RU  1651722813  \n",
       "9         5.75      KM  1651722813  \n",
       "10        3.04      SA  1651722813  \n",
       "11       26.71      CN  1651722814  \n",
       "12        2.19      NZ  1651722814  \n",
       "13        5.50      BR  1651722815  \n",
       "14        7.00      MU  1651722815  "
      ]
     },
     "execution_count": 20,
     "metadata": {},
     "output_type": "execute_result"
    }
   ],
   "source": [
    "#Display the Data Frame\n",
    "weather_df.head(15)"
   ]
  },
  {
   "cell_type": "code",
   "execution_count": 21,
   "metadata": {},
   "outputs": [],
   "source": [
    "#Export the data to csv\n",
    "weather_df.to_csv(\"../output_data/cities.csv\", index = False)"
   ]
  },
  {
   "cell_type": "markdown",
   "metadata": {},
   "source": [
    "## Inspect the data and remove the cities where the humidity > 100%.\n",
    "----\n",
    "Skip this step if there are no cities that have humidity > 100%. "
   ]
  },
  {
   "cell_type": "code",
   "execution_count": 22,
   "metadata": {},
   "outputs": [
    {
     "name": "stdout",
     "output_type": "stream",
     "text": [
      "Empty DataFrame\n",
      "Columns: [City, Lat, Lng, Max Temp, Humidity, Cloudiness, Wind Speed, Country, Date]\n",
      "Index: []\n"
     ]
    }
   ],
   "source": [
    "#check if there is any city with a humidity higher than 100%\n",
    "greater_humidity = weather_df.query(\"Humidity > 100\")\n",
    "print(greater_humidity)"
   ]
  },
  {
   "cell_type": "markdown",
   "metadata": {},
   "source": [
    "## Plotting the Data\n",
    "* Use proper labeling of the plots using plot titles (including date of analysis) and axes labels.\n",
    "* Save the plotted figures as .pngs."
   ]
  },
  {
   "cell_type": "markdown",
   "metadata": {},
   "source": [
    "## Latitude vs. Temperature Plot"
   ]
  },
  {
   "cell_type": "code",
   "execution_count": 36,
   "metadata": {},
   "outputs": [
    {
     "data": {
      "image/png": "[encoded data removed]",
      "text/plain": [
       "<Figure size 432x288 with 1 Axes>"
      ]
     },
     "metadata": {
      "needs_background": "light"
     },
     "output_type": "display_data"
    }
   ],
   "source": [
    "#scatter plot Latitute vs Temperature \n",
    "plt.scatter(weather_df[\"Lat\"], weather_df[\"Max Temp\"], color = \"skyblue\", edgecolor = \"black\")\n",
    "\n",
    "#labels\n",
    "plt.xlabel(\"Latitude\")\n",
    "plt.ylabel(\"Max Temperature (F)\")\n",
    "\n",
    "#grid line\n",
    "plt.grid(linestyle = \"-\", linewidth = 1, alpha = 0.5)\n",
    "\n",
    "#title\n",
    "plt.title = (\"City Latitude vs Max Temperature Plot\")\n",
    "\n",
    "#saving the image\n",
    "#plt.savefig(\"../Python-APIs/City Latitude vs Max Temperature Plot.png\")"
   ]
  },
  {
   "cell_type": "code",
   "execution_count": null,
   "metadata": {
    "scrolled": true
   },
   "outputs": [],
   "source": []
  },
  {
   "cell_type": "markdown",
   "metadata": {},
   "source": [
    "## Latitude vs. Humidity Plot"
   ]
  },
  {
   "cell_type": "code",
   "execution_count": 37,
   "metadata": {},
   "outputs": [
    {
     "data": {
      "image/png": "[encoded data removed]",
      "text/plain": [
       "<Figure size 432x288 with 1 Axes>"
      ]
     },
     "metadata": {
      "needs_background": "light"
     },
     "output_type": "display_data"
    }
   ],
   "source": [
    "#scatter plot Latitute vs Humidity  \n",
    "plt.scatter(weather_df[\"Lat\"], weather_df[\"Humidity\"], color = \"skyblue\", edgecolor = \"black\")\n",
    "\n",
    "#labels\n",
    "plt.xlabel(\"Latitude\")\n",
    "plt.ylabel(\"Humidity\")\n",
    "\n",
    "#grid line\n",
    "plt.grid(linestyle = \"-\", linewidth = 1, alpha = 0.5)\n",
    "\n",
    "#title\n",
    "plt.title = (\"City Latitude vs Humidity\")\n",
    "\n",
    "#saving the image\n",
    "#plt.savefig(\"../Python-APIs/City Latitude vs Humidity.png\")"
   ]
  },
  {
   "cell_type": "code",
   "execution_count": null,
   "metadata": {},
   "outputs": [],
   "source": []
  },
  {
   "cell_type": "markdown",
   "metadata": {},
   "source": [
    "## Latitude vs. Cloudiness Plot"
   ]
  },
  {
   "cell_type": "code",
   "execution_count": 38,
   "metadata": {},
   "outputs": [
    {
     "data": {
      "image/png": "[encoded data removed]",
      "text/plain": [
       "<Figure size 432x288 with 1 Axes>"
      ]
     },
     "metadata": {
      "needs_background": "light"
     },
     "output_type": "display_data"
    }
   ],
   "source": [
    "#scatter plot Latitute vs Cloudiness  \n",
    "plt.scatter(weather_df[\"Lat\"], weather_df[\"Cloudiness\"], color = \"skyblue\", edgecolor = \"black\")\n",
    "\n",
    "#labels\n",
    "plt.xlabel(\"Latitude\")\n",
    "plt.ylabel(\"Cloudiness\")\n",
    "\n",
    "#grid line\n",
    "plt.grid(linestyle = \"-\", linewidth = 1, alpha = 0.5)\n",
    "\n",
    "#title\n",
    "plt.title = (\"City Latitude vs Cloudiness\")\n",
    "\n",
    "#saving the image\n",
    "#plt.savefig(\"../Python-APIs/City Latitude vs Cloudiness\")"
   ]
  },
  {
   "cell_type": "code",
   "execution_count": null,
   "metadata": {},
   "outputs": [],
   "source": []
  },
  {
   "cell_type": "markdown",
   "metadata": {},
   "source": [
    "## Latitude vs. Wind Speed Plot"
   ]
  },
  {
   "cell_type": "code",
   "execution_count": 39,
   "metadata": {},
   "outputs": [
    {
     "data": {
      "image/png": "[encoded data removed]",
      "text/plain": [
       "<Figure size 432x288 with 1 Axes>"
      ]
     },
     "metadata": {
      "needs_background": "light"
     },
     "output_type": "display_data"
    }
   ],
   "source": [
    "#scatter plot Latitute vs Wind Speed  \n",
    "plt.scatter(weather_df[\"Lat\"], weather_df[\"Wind Speed\"], color = \"skyblue\", edgecolor = \"black\")\n",
    "\n",
    "#labels\n",
    "plt.xlabel(\"Latitude\")\n",
    "plt.ylabel(\"Wind Speed\")\n",
    "\n",
    "#grid line\n",
    "plt.grid(linestyle = \"-\", linewidth = 1, alpha = 0.5)\n",
    "\n",
    "#title\n",
    "plt.title = (\"City Latitude vs Wind Speed\")\n",
    "\n",
    "#saving the image\n",
    "#plt.savefig(\"../Python-APIs/City Latitude vs Wind Speed.png\")"
   ]
  },
  {
   "cell_type": "code",
   "execution_count": null,
   "metadata": {},
   "outputs": [],
   "source": []
  },
  {
   "cell_type": "markdown",
   "metadata": {},
   "source": [
    "## Linear Regression"
   ]
  },
  {
   "cell_type": "code",
   "execution_count": 50,
   "metadata": {},
   "outputs": [],
   "source": [
    "#Northern and Southern Hemisphere\n",
    "northern_hemisphere = weather_df.loc[weather_df[\"Lat\"] >= 0]\n",
    "southern_hemisphere = weather_df.loc[weather_df[\"Lat\"] < 0]\n",
    "\n",
    "#linear agression and scatter plot def\n",
    "def linear_agression(x,y):\n",
    "    print(f\"The r-squared is : {round(st.pearsonr(x, y)[0],2)}\")\n",
    "    (slope, intercept, rvalue, pvalue, stderr) = linregress(x, y)\n",
    "    regress_values = x * slope + intercept\n",
    "    line_eq = \"y = \" + str(round(slope,2)) + \"x + \" + str(round(intercept,2))\n",
    "    plt.scatter(x, y)\n",
    "    plt.plot(x,regress_values, \"r-\")\n",
    "    return line_eq\n",
    "\n",
    "#annotate def\n",
    "def annotate(line_eq, a,b):\n",
    "    plt.annotate(line_eq,(a,b), fontsize=10, color=\"red\")\n",
    "    "
   ]
  },
  {
   "cell_type": "code",
   "execution_count": null,
   "metadata": {},
   "outputs": [],
   "source": []
  },
  {
   "cell_type": "markdown",
   "metadata": {},
   "source": [
    "####  Northern Hemisphere - Max Temp vs. Latitude Linear Regression"
   ]
  },
  {
   "cell_type": "code",
   "execution_count": 51,
   "metadata": {},
   "outputs": [
    {
     "name": "stdout",
     "output_type": "stream",
     "text": [
      "The r-squared is : -0.86\n"
     ]
    },
    {
     "data": {
      "text/plain": [
       "Text(0, 0.5, 'Max Temperature (F)')"
      ]
     },
     "execution_count": 51,
     "metadata": {},
     "output_type": "execute_result"
    },
    {
     "data": {
      "image/png": "[encoded data removed]",
      "text/plain": [
       "<Figure size 432x288 with 1 Axes>"
      ]
     },
     "metadata": {
      "needs_background": "light"
     },
     "output_type": "display_data"
    }
   ],
   "source": [
    "#The plot of Max Temp vs Latitude Linear Regression \n",
    "equation = linear_agression(northern_hemisphere[\"Lat\"], northern_hemisphere[\"Max Temp\"])\n",
    "annotate(equation, 0 ,0)\n",
    "\n",
    "#title\n",
    "plt.title = (\"Northern Hemisphere - Max Temp vs Latitude Linear Regression\")\n",
    "\n",
    "#labels\n",
    "plt.xlabel(\"Latitude\")\n",
    "plt.ylabel(\"Max Temperature (F)\")\n",
    "\n",
    "#saving the image\n",
    "#plt.savefig(\"../Python-APIs/Northern Hemisphere - Max Temperature vs Latitude Linear Regression.png\")\n",
    "\n"
   ]
  },
  {
   "cell_type": "code",
   "execution_count": null,
   "metadata": {},
   "outputs": [],
   "source": []
  },
  {
   "cell_type": "markdown",
   "metadata": {},
   "source": [
    "####  Southern Hemisphere - Max Temp vs. Latitude Linear Regression"
   ]
  },
  {
   "cell_type": "code",
   "execution_count": 52,
   "metadata": {},
   "outputs": [
    {
     "name": "stdout",
     "output_type": "stream",
     "text": [
      "The r-squared is : 0.68\n"
     ]
    },
    {
     "data": {
      "text/plain": [
       "Text(0, 0.5, 'Max Temperature (F)')"
      ]
     },
     "execution_count": 52,
     "metadata": {},
     "output_type": "execute_result"
    },
    {
     "data": {
      "image/png": "[encoded data removed]",
      "text/plain": [
       "<Figure size 432x288 with 1 Axes>"
      ]
     },
     "metadata": {
      "needs_background": "light"
     },
     "output_type": "display_data"
    }
   ],
   "source": [
    "#The a plot of Max Temp vs Latitude Linear Regression \n",
    "equation = linear_agression(southern_hemisphere[\"Lat\"], southern_hemisphere[\"Max Temp\"])\n",
    "annotate(equation, -30 , 60)\n",
    "\n",
    "#title\n",
    "plt.title = (\"Southern Hemisphere - Max Temp vs Latitude Linear Regression\")\n",
    "\n",
    "#labels\n",
    "plt.xlabel(\"Latitude\")\n",
    "plt.ylabel(\"Max Temperature (F)\")\n",
    "\n",
    "#saving the image\n",
    "#plt.savefig(\"../Python-APIs/Southern Hemisphere - Max Temperature vs Latitude Linear Regression.png\")\n",
    "\n"
   ]
  },
  {
   "cell_type": "code",
   "execution_count": null,
   "metadata": {},
   "outputs": [],
   "source": []
  },
  {
   "cell_type": "markdown",
   "metadata": {},
   "source": [
    "####  Northern Hemisphere - Humidity (%) vs. Latitude Linear Regression"
   ]
  },
  {
   "cell_type": "code",
   "execution_count": 53,
   "metadata": {},
   "outputs": [
    {
     "name": "stdout",
     "output_type": "stream",
     "text": [
      "The r-squared is : 0.11\n"
     ]
    },
    {
     "data": {
      "text/plain": [
       "Text(0, 0.5, 'Humidity (%)')"
      ]
     },
     "execution_count": 53,
     "metadata": {},
     "output_type": "execute_result"
    },
    {
     "data": {
      "image/png": "[encoded data removed]",
      "text/plain": [
       "<Figure size 432x288 with 1 Axes>"
      ]
     },
     "metadata": {
      "needs_background": "light"
     },
     "output_type": "display_data"
    }
   ],
   "source": [
    "#The a plot of Max Temp vs Latitude Linear Regression \n",
    "equation = linear_agression(northern_hemisphere[\"Lat\"], northern_hemisphere[\"Humidity\"])\n",
    "annotate(equation, 40 , 20)\n",
    "\n",
    "#title\n",
    "plt.title = (\"Northern Hemisphere - Humidity (%) vs Latitude Linear Regression\")\n",
    "\n",
    "#labels\n",
    "plt.xlabel(\"Latitude\")\n",
    "plt.ylabel(\"Humidity (%)\")\n",
    "\n",
    "#saving the image\n",
    "#plt.savefig(\"../Python-APIs/Northern Hemisphere - Humidity (%) vs Latitude Linear Regression.png\")\n",
    "\n"
   ]
  },
  {
   "cell_type": "code",
   "execution_count": null,
   "metadata": {},
   "outputs": [],
   "source": []
  },
  {
   "cell_type": "markdown",
   "metadata": {},
   "source": [
    "####  Southern Hemisphere - Humidity (%) vs. Latitude Linear Regression"
   ]
  },
  {
   "cell_type": "code",
   "execution_count": 54,
   "metadata": {},
   "outputs": [
    {
     "name": "stdout",
     "output_type": "stream",
     "text": [
      "The r-squared is : 0.28\n"
     ]
    },
    {
     "data": {
      "text/plain": [
       "Text(0, 0.5, 'Humidity (%)')"
      ]
     },
     "execution_count": 54,
     "metadata": {},
     "output_type": "execute_result"
    },
    {
     "data": {
      "image/png": "[encoded data removed]",
      "text/plain": [
       "<Figure size 432x288 with 1 Axes>"
      ]
     },
     "metadata": {
      "needs_background": "light"
     },
     "output_type": "display_data"
    }
   ],
   "source": [
    "#The plot of Max Temp vs Latitude Linear Regression \n",
    "equation = linear_agression(southern_hemisphere[\"Lat\"], southern_hemisphere[\"Humidity\"])\n",
    "annotate(equation, -30 , 40)\n",
    "\n",
    "#title\n",
    "plt.title = (\"Southern Hemisphere - Humidity (%) vs Latitude Linear Regression\")\n",
    "\n",
    "#labels\n",
    "plt.xlabel(\"Latitude\")\n",
    "plt.ylabel(\"Humidity (%)\")\n",
    "\n",
    "#saving the image\n",
    "#plt.savefig(\"../Python-APIs/Southern Hemisphere - Humidity (%) vs Latitude Linear Regression.png\")\n",
    "\n"
   ]
  },
  {
   "cell_type": "code",
   "execution_count": null,
   "metadata": {},
   "outputs": [],
   "source": []
  },
  {
   "cell_type": "markdown",
   "metadata": {},
   "source": [
    "####  Northern Hemisphere - Cloudiness (%) vs. Latitude Linear Regression"
   ]
  },
  {
   "cell_type": "code",
   "execution_count": 55,
   "metadata": {},
   "outputs": [
    {
     "name": "stdout",
     "output_type": "stream",
     "text": [
      "The r-squared is : 0.09\n"
     ]
    },
    {
     "data": {
      "text/plain": [
       "Text(0, 0.5, 'Cloudiness (%)')"
      ]
     },
     "execution_count": 55,
     "metadata": {},
     "output_type": "execute_result"
    },
    {
     "data": {
      "image/png": "[encoded data removed]",
      "text/plain": [
       "<Figure size 432x288 with 1 Axes>"
      ]
     },
     "metadata": {
      "needs_background": "light"
     },
     "output_type": "display_data"
    }
   ],
   "source": [
    "#The plot of Max Temp vs Latitude Linear Regression \n",
    "equation = linear_agression(northern_hemisphere[\"Lat\"], northern_hemisphere[\"Cloudiness\"])\n",
    "annotate(equation, 0 , 60)\n",
    "\n",
    "#title\n",
    "plt.title = (\"Northern Hemisphere - Cloudiness (%) vs Latitude Linear Regression\")\n",
    "\n",
    "#labels\n",
    "plt.xlabel(\"Latitude\")\n",
    "plt.ylabel(\"Cloudiness (%)\")\n",
    "\n",
    "#saving the image\n",
    "#plt.savefig(\"../Python-APIs/Northern Hemisphere - Cloudiness (%) vs Latitude Linear Regression.png\")\n",
    "\n"
   ]
  },
  {
   "cell_type": "code",
   "execution_count": null,
   "metadata": {},
   "outputs": [],
   "source": []
  },
  {
   "cell_type": "markdown",
   "metadata": {},
   "source": [
    "####  Southern Hemisphere - Cloudiness (%) vs. Latitude Linear Regression"
   ]
  },
  {
   "cell_type": "code",
   "execution_count": 56,
   "metadata": {},
   "outputs": [
    {
     "name": "stdout",
     "output_type": "stream",
     "text": [
      "The r-squared is : 0.27\n"
     ]
    },
    {
     "data": {
      "text/plain": [
       "Text(0, 0.5, 'Cloudiness (%)')"
      ]
     },
     "execution_count": 56,
     "metadata": {},
     "output_type": "execute_result"
    },
    {
     "data": {
      "image/png": "[encoded data removed]",
      "text/plain": [
       "<Figure size 432x288 with 1 Axes>"
      ]
     },
     "metadata": {
      "needs_background": "light"
     },
     "output_type": "display_data"
    }
   ],
   "source": [
    "#The plot of Max Temp vs Latitude Linear Regression \n",
    "equation = linear_agression(southern_hemisphere[\"Lat\"], southern_hemisphere[\"Cloudiness\"])\n",
    "annotate(equation, -20, 0)\n",
    "\n",
    "#title\n",
    "plt.title = (\"Southern Hemisphere - Cloudiness (%) vs  Latitude Linear Regression\")\n",
    "#labels\n",
    "plt.xlabel(\"Latitude\")\n",
    "plt.ylabel(\"Cloudiness (%)\")\n",
    "\n",
    "#saving the image\n",
    "#plt.savefig(\"../Python-APIs/Southern Hemisphere - Cloudiness (%) vs Latitude Linear Regression.png\")\n",
    "\n"
   ]
  },
  {
   "cell_type": "code",
   "execution_count": null,
   "metadata": {},
   "outputs": [],
   "source": []
  },
  {
   "cell_type": "markdown",
   "metadata": {},
   "source": [
    "####  Northern Hemisphere - Wind Speed (mph) vs. Latitude Linear Regression"
   ]
  },
  {
   "cell_type": "code",
   "execution_count": 57,
   "metadata": {},
   "outputs": [
    {
     "name": "stdout",
     "output_type": "stream",
     "text": [
      "The r-squared is : 0.15\n"
     ]
    },
    {
     "data": {
      "text/plain": [
       "Text(0, 0.5, 'Wind Speed (mph)')"
      ]
     },
     "execution_count": 57,
     "metadata": {},
     "output_type": "execute_result"
    },
    {
     "data": {
      "image/png": "[encoded data removed]",
      "text/plain": [
       "<Figure size 432x288 with 1 Axes>"
      ]
     },
     "metadata": {
      "needs_background": "light"
     },
     "output_type": "display_data"
    }
   ],
   "source": [
    "#The plot of Max Temp vs Latitude Linear Regression \n",
    "equation = linear_agression(northern_hemisphere[\"Lat\"], northern_hemisphere[\"Wind Speed\"])\n",
    "annotate(equation, 10 , 25)\n",
    "\n",
    "#title\n",
    "plt.title = (\"Northern Hemisphere - Wind Speed (mph) vs Latitude Linear Regression\")\n",
    "\n",
    "#labels\n",
    "plt.xlabel(\"Latitude\")\n",
    "plt.ylabel(\"Wind Speed (mph)\")\n",
    "\n",
    "#saving the image\n",
    "#plt.savefig(\"../Python-APIs/Northern Hemisphere - Wind Speed (mph vs Latitude Linear Regression.png\")\n",
    "\n"
   ]
  },
  {
   "cell_type": "code",
   "execution_count": null,
   "metadata": {},
   "outputs": [],
   "source": []
  },
  {
   "cell_type": "markdown",
   "metadata": {},
   "source": [
    "####  Southern Hemisphere - Wind Speed (mph) vs. Latitude Linear Regression"
   ]
  },
  {
   "cell_type": "code",
   "execution_count": 58,
   "metadata": {},
   "outputs": [
    {
     "name": "stdout",
     "output_type": "stream",
     "text": [
      "The r-squared is : -0.14\n"
     ]
    },
    {
     "data": {
      "text/plain": [
       "Text(0, 0.5, 'Wind Speed (mph)')"
      ]
     },
     "execution_count": 58,
     "metadata": {},
     "output_type": "execute_result"
    },
    {
     "data": {
      "image/png": "[encoded data removed]",
      "text/plain": [
       "<Figure size 432x288 with 1 Axes>"
      ]
     },
     "metadata": {
      "needs_background": "light"
     },
     "output_type": "display_data"
    }
   ],
   "source": [
    "#The plot of Max Temp vs Latitude Linear Regression \n",
    "equation = linear_agression(southern_hemisphere[\"Lat\"], southern_hemisphere[\"Wind Speed\"])\n",
    "annotate(equation, -40, 30)\n",
    "\n",
    "#title\n",
    "plt.title = (\"Southern Hemisphere - Wind Speed (mph) vs Latitude Linear Regression\")\n",
    "\n",
    "#labels\n",
    "plt.xlabel(\"Latitude\")\n",
    "plt.ylabel(\"Wind Speed (mph)\")\n",
    "\n",
    "#saving the image\n",
    "#plt.savefig(\"../Python-APIs/Southern Hemisphere - Wind Speed (mph vs Latitude Linear Regression.png\")\n",
    "\n"
   ]
  },
  {
   "cell_type": "code",
   "execution_count": null,
   "metadata": {},
   "outputs": [],
   "source": []
  },
  {
   "cell_type": "code",
   "execution_count": null,
   "metadata": {},
   "outputs": [],
   "source": []
  },
  {
   "cell_type": "code",
   "execution_count": null,
   "metadata": {},
   "outputs": [],
   "source": []
  },
  {
   "cell_type": "code",
   "execution_count": null,
   "metadata": {},
   "outputs": [],
   "source": []
  }
 ],
 "metadata": {
  "anaconda-cloud": {},
  "kernel_info": {
   "name": "python3"
  },
  "kernelspec": {
   "display_name": "Python 3 (ipykernel)",
   "language": "python",
   "name": "python3"
  },
  "language_info": {
   "codemirror_mode": {
    "name": "ipython",
    "version": 3
   },
   "file_extension": ".py",
   "mimetype": "text/x-python",
   "name": "python",
   "nbconvert_exporter": "python",
   "pygments_lexer": "ipython3",
   "version": "3.10.1"
  },
  "latex_envs": {
   "LaTeX_envs_menu_present": true,
   "autoclose": false,
   "autocomplete": true,
   "bibliofile": "biblio.bib",
   "cite_by": "apalike",
   "current_citInitial": 1,
   "eqLabelWithNumbers": true,
   "eqNumInitial": 1,
   "hotkeys": {
    "equation": "Ctrl-E",
    "itemize": "Ctrl-I"
   },
   "labels_anchors": false,
   "latex_user_defs": false,
   "report_style_numbering": false,
   "user_envs_cfg": false
  },
  "nteract": {
   "version": "0.12.3"
  }
 },
 "nbformat": 4,
 "nbformat_minor": 2
}
